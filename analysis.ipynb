{
 "cells": [
  {
   "cell_type": "markdown",
   "metadata": {},
   "source": [
    "Import Libraries"
   ]
  },
  {
   "cell_type": "code",
   "execution_count": 1,
   "metadata": {},
   "outputs": [],
   "source": [
    "import os\n",
    "import pandas as pd\n",
    "import numpy as np"
   ]
  },
  {
   "cell_type": "markdown",
   "metadata": {},
   "source": [
    "Selecting required directories"
   ]
  },
  {
   "cell_type": "code",
   "execution_count": 2,
   "metadata": {},
   "outputs": [],
   "source": [
    "folders = os.listdir(os.getcwd())\n",
    "to_be_ignored = {'.git','analysis.ipynb','README.md'}\n",
    "categories = [fname for fname in folders if fname not in to_be_ignored]"
   ]
  },
  {
   "cell_type": "markdown",
   "metadata": {},
   "source": [
    "Basic Statistics for Constructed Graphs"
   ]
  },
  {
   "cell_type": "code",
   "execution_count": 4,
   "metadata": {},
   "outputs": [
    {
     "name": "stdout",
     "output_type": "stream",
     "text": [
      "CVE-2016-5195, Average Number of Edges: 495.2314049586777, Average Number of Nodes: 77\n",
      "CVE-2016-8655, Average Number of Edges: 476.32710280373834, Average Number of Nodes: 79\n",
      "CVE-2017-6074, Average Number of Edges: 435.89622641509436, Average Number of Nodes: 70\n",
      "mounted socket, Average Number of Edges: 469.22549019607845, Average Number of Nodes: 74\n",
      "normal, Average Number of Edges: 52.849514563106794, Average Number of Nodes: 21\n",
      "process injection, Average Number of Edges: 927.843137254902, Average Number of Nodes: 109\n"
     ]
    }
   ],
   "source": [
    "for category in categories:\n",
    "    path = os.path.join(os.getcwd(), category)\n",
    "    #num_traces = len(os.listdir(path))\n",
    "    #print(f'{category} & {num_traces}')\n",
    "    files = os.listdir(path)\n",
    "    category_edge_set = []\n",
    "    for file in files:\n",
    "        filepath = os.path.join(path, file)\n",
    "        df = pd.read_csv(filepath, usecols=['syscall_type', 'proc_nthreads', 'proc_nchilds', 'proc_fdopencount', 'proc_vmsize'])\n",
    "        unique_id = {syscall:i for (i,syscall) in enumerate(df.syscall_type.unique())}\n",
    "        syscall_list = [x for x in df.syscall_type]\n",
    "        num_nodes = len(set(syscall_list))\n",
    "        edge_set = set()\n",
    "        edge_index = []\n",
    "        for i in range(len(syscall_list)-1):\n",
    "            edge_str = f'{unique_id[syscall_list[i]]}_{unique_id[syscall_list[i+1]]}'\n",
    "            if edge_str not in edge_set:\n",
    "                edge_index.append([unique_id[syscall_list[i]], unique_id[syscall_list[i+1]]])\n",
    "                edge_index.append([unique_id[syscall_list[i+1]], unique_id[syscall_list[i]]])\n",
    "                edge_set.add(edge_str)\n",
    "        category_edge_set.append(len(edge_set))\n",
    "    avg_num_edges = np.average(category_edge_set)\n",
    "    print(f'{category}, Average Number of Edges: {avg_num_edges}, Average Number of Nodes: {num_nodes}')\n",
    "        "
   ]
  },
  {
   "cell_type": "code",
   "execution_count": null,
   "metadata": {},
   "outputs": [],
   "source": []
  }
 ],
 "metadata": {
  "kernelspec": {
   "display_name": "Python 3.10.8 64-bit",
   "language": "python",
   "name": "python3"
  },
  "language_info": {
   "codemirror_mode": {
    "name": "ipython",
    "version": 3
   },
   "file_extension": ".py",
   "mimetype": "text/x-python",
   "name": "python",
   "nbconvert_exporter": "python",
   "pygments_lexer": "ipython3",
   "version": "3.10.8"
  },
  "orig_nbformat": 4,
  "vscode": {
   "interpreter": {
    "hash": "939051930e92a98d592a6ee849707dc10a9aabd2041a7d491cb42697138b7780"
   }
  }
 },
 "nbformat": 4,
 "nbformat_minor": 2
}
